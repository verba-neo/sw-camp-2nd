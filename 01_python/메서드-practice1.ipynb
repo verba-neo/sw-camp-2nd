{
 "cells": [
  {
   "cell_type": "markdown",
   "metadata": {},
   "source": [
    "# Practice 1\n",
    "\n",
    "> 복잡한 자료구조의 (2차원 리스트) 반복문"
   ]
  },
  {
   "cell_type": "markdown",
   "metadata": {},
   "source": [
    "## 복잡한 리스트의 합\n",
    "\n",
    "> 2차원 리스트를 반복하는 방법을 알아봅시다. \n",
    "\n",
    "\n",
    "* 주어진 아래의 리스트를 반복하여 숫자의 합을 반환하시오.\n",
    "\n",
    "---\n",
    "**예시 입력**\n",
    "\n",
    "```python\n",
    "numbers = [\n",
    "    [1, 4],\n",
    "    [10, 5],\n",
    "    [20, 30]    \n",
    "]\n",
    "\n",
    "```\n",
    "\n",
    "**예시 출력**\n",
    "```python\n",
    "sum_list([[1, 4], [10, 5], [20, 30]]) # 70\n",
    "```"
   ]
  },
  {
   "cell_type": "markdown",
   "metadata": {},
   "source": [
    "### for 문을 활용하여 풀이하기\n",
    "\n",
    "```python\n",
    "for element in list:\n",
    "```"
   ]
  },
  {
   "cell_type": "code",
   "execution_count": 5,
   "metadata": {},
   "outputs": [],
   "source": [
    "# 아래에 코드를 작성하세요.\n",
    "def sum_list(lists):\n",
    "    total = 0\n",
    "    \n",
    "    for numbers in lists:\n",
    "        for num in numbers:\n",
    "            total += num \n",
    "    return total\n"
   ]
  },
  {
   "cell_type": "code",
   "execution_count": 6,
   "metadata": {},
   "outputs": [
    {
     "name": "stdout",
     "output_type": "stream",
     "text": [
      "70\n"
     ]
    }
   ],
   "source": [
    "print(sum_list([[1, 4], [10, 5], [20, 30]]))"
   ]
  },
  {
   "cell_type": "markdown",
   "metadata": {},
   "source": [
    "### Index로 접근하여 풀이하기\n",
    "\n",
    "```python\n",
    "for element in range(len(list)):\n",
    "```"
   ]
  },
  {
   "cell_type": "code",
   "execution_count": 26,
   "metadata": {},
   "outputs": [],
   "source": [
    "# 아래에 코드를 작성하세요.\n",
    "def sum_list_index(lists):\n",
    "    \n",
    "    total = 0\n",
    "    \n",
    "    for i in range(len(lists)):\n",
    "        numbers = lists[i]\n",
    "        for j in range(len(numbers)):\n",
    "            total += numbers[j]\n",
    "            \n",
    "    return total"
   ]
  },
  {
   "cell_type": "code",
   "execution_count": 28,
   "metadata": {},
   "outputs": [],
   "source": [
    "# 아래에 코드를 작성하세요.\n",
    "def sum_list_index(lists):\n",
    "    \n",
    "    total = 0\n",
    "    \n",
    "    for i in range(len(lists)):\n",
    "        for j in range(len(lists[i])):\n",
    "            total += lists[i][j]\n",
    "            \n",
    "    return total"
   ]
  },
  {
   "cell_type": "code",
   "execution_count": 29,
   "metadata": {},
   "outputs": [
    {
     "name": "stdout",
     "output_type": "stream",
     "text": [
      "70\n"
     ]
    }
   ],
   "source": [
    "print(sum_list_index([[1, 4], [10, 5], [20, 30]]))"
   ]
  },
  {
   "cell_type": "markdown",
   "metadata": {},
   "source": [
    "### while 문을 활용하여 풀이하기\n",
    "\n",
    "```python\n",
    "while ____:\n",
    "```"
   ]
  },
  {
   "cell_type": "code",
   "execution_count": 40,
   "metadata": {},
   "outputs": [],
   "source": [
    "## 아래에 코드를 작성하세요.\n",
    "def sum_list_while(lists):\n",
    "    total = 0\n",
    "    i = 0\n",
    "    while i < len(lists):\n",
    "        numbers = lists[i]\n",
    "        j = 0\n",
    "        while j < len(numbers):\n",
    "            total += numbers[j]\n",
    "            j += 1            \n",
    "        i += 1\n",
    "    \n",
    "    return total"
   ]
  },
  {
   "cell_type": "code",
   "execution_count": 41,
   "metadata": {},
   "outputs": [
    {
     "name": "stdout",
     "output_type": "stream",
     "text": [
      "70\n"
     ]
    }
   ],
   "source": [
    "print(sum_list_while([[1, 4], [10, 5], [20, 30]]))"
   ]
  },
  {
   "cell_type": "markdown",
   "metadata": {},
   "source": [
    "### `map`으로 풀기"
   ]
  },
  {
   "cell_type": "code",
   "execution_count": 11,
   "metadata": {},
   "outputs": [],
   "source": [
    "def sum_list_map(lists):\n",
    "    return sum(map(sum, lists))"
   ]
  },
  {
   "cell_type": "code",
   "execution_count": 12,
   "metadata": {},
   "outputs": [
    {
     "name": "stdout",
     "output_type": "stream",
     "text": [
      "70\n"
     ]
    }
   ],
   "source": [
    "print(sum_list_map([[1, 4], [10, 5], [20, 30]]))"
   ]
  },
  {
   "cell_type": "markdown",
   "metadata": {},
   "source": [
    "## 시험 점수\n",
    "\n",
    "> 2차원 배열\n",
    "\n",
    "\n",
    "* A반 학생들의 점수는 아래와 같고, students 리스트에 저장되어 있다.\n",
    "\n",
    "    * A학생(국어 100점, 수학 80점, 영어 100점)\n",
    "    * B학생(국어 90점, 수학 90점, 영어 60점)\n",
    "    * C학생(국어 80점, 수학 80점, 영어 80점)\n",
    "\n",
    "```python\n",
    "students = [\n",
    " [100, 80, 100],\n",
    " [90, 90, 60],\n",
    " [80, 80, 80]\n",
    "]\n",
    "```"
   ]
  },
  {
   "cell_type": "markdown",
   "metadata": {},
   "source": [
    "### 학생별 출력\n",
    "\n",
    "* 아래의 리스트를 반복하여 **학생별 총합**을 순서대로 `출력`하시오.\n",
    "\n",
    "* `sum` 함수 사용 금지\n",
    "\n",
    "---\n",
    "**예시 입력**\n",
    "\n",
    "```python\n",
    "students = [\n",
    " [100, 80, 100],\n",
    " [90, 90, 60],\n",
    " [80, 80, 80]\n",
    "]\n",
    "```\n",
    "\n",
    "**예시 출력**\n",
    "```\n",
    "280\n",
    "240\n",
    "240\n",
    "```"
   ]
  },
  {
   "cell_type": "code",
   "execution_count": 42,
   "metadata": {},
   "outputs": [],
   "source": [
    "students = [\n",
    " [100, 80, 100],\n",
    " [90, 90, 60],\n",
    " [80, 80, 80]\n",
    "]"
   ]
  },
  {
   "cell_type": "code",
   "execution_count": 46,
   "metadata": {},
   "outputs": [
    {
     "name": "stdout",
     "output_type": "stream",
     "text": [
      "280\n",
      "240\n",
      "240\n"
     ]
    }
   ],
   "source": [
    "# 아래에 풀이를 작성하세요. 함수 정의는 필요없습니다.\n",
    "\n",
    "for scores in students:\n",
    "    total = 0\n",
    "    for score in scores:\n",
    "        total += score\n",
    "    print(total)"
   ]
  },
  {
   "cell_type": "code",
   "execution_count": 54,
   "metadata": {},
   "outputs": [
    {
     "name": "stdout",
     "output_type": "stream",
     "text": [
      "280\n",
      "240\n",
      "240\n"
     ]
    }
   ],
   "source": [
    "for score in map(sum, students):\n",
    "    print(score)"
   ]
  },
  {
   "cell_type": "code",
   "execution_count": 62,
   "metadata": {},
   "outputs": [
    {
     "name": "stdout",
     "output_type": "stream",
     "text": [
      "280\n",
      "240\n",
      "240\n"
     ]
    }
   ],
   "source": [
    "for row in range(len(students)):\n",
    "    total = 0\n",
    "    for col in range(len(students[row])):\n",
    "        total += students[row][col]\n",
    "        \n",
    "    print(total)"
   ]
  },
  {
   "cell_type": "markdown",
   "metadata": {},
   "source": [
    "### 과목별 출력\n",
    "\n",
    "* 아래의 리스트를 반복하여 **과목별 총합**을 순서대로 `출력`하시오.\n",
    "* `sum` 함수 사용 금지\n",
    "\n",
    "---\n",
    "**예시 입력**\n",
    "\n",
    "```python\n",
    "students = [\n",
    " [100, 80, 100],\n",
    " [90, 90, 60],\n",
    " [80, 80, 80]\n",
    "]\n",
    "```\n",
    "\n",
    "**예시 출력**\n",
    "```\n",
    "270\n",
    "250\n",
    "240\n",
    "```"
   ]
  },
  {
   "cell_type": "code",
   "execution_count": null,
   "metadata": {},
   "outputs": [],
   "source": [
    "students = [\n",
    " [100, 80, 100],\n",
    " [90, 90, 60],\n",
    " [80, 80, 80]\n",
    "]"
   ]
  },
  {
   "cell_type": "code",
   "execution_count": 65,
   "metadata": {},
   "outputs": [
    {
     "name": "stdout",
     "output_type": "stream",
     "text": [
      "270\n",
      "250\n",
      "240\n"
     ]
    }
   ],
   "source": [
    "# 아래에 풀이를 작성하세요. 함수 정의는 필요없습니다.\n",
    "\n",
    "# N * N의 matrix\n",
    "\n",
    "N = 3\n",
    "\n",
    "# 세로로 순회(열 우선순회를 하고싶다면)\n",
    "for col in range(N):\n",
    "    total = 0\n",
    "    for row in range(N):\n",
    "        total += students[row][col]\n",
    "        \n",
    "    print(total)"
   ]
  },
  {
   "cell_type": "code",
   "execution_count": 67,
   "metadata": {},
   "outputs": [
    {
     "name": "stdout",
     "output_type": "stream",
     "text": [
      "0 0\n",
      "0 1\n",
      "0 2\n",
      "1 0\n",
      "1 1\n",
      "1 2\n",
      "2 0\n",
      "2 1\n",
      "2 2\n",
      "\n",
      "0 0\n",
      "1 0\n",
      "2 0\n",
      "0 1\n",
      "1 1\n",
      "2 1\n",
      "0 2\n",
      "1 2\n",
      "2 2\n"
     ]
    }
   ],
   "source": [
    "# 행(row) 우선\n",
    "for row in range(N):\n",
    "    for col in range(N):\n",
    "        print(row, col)\n",
    "        \n",
    "print()\n",
    "\n",
    "# 열(col) 우선    \n",
    "for col in range(N):\n",
    "    for row in range(N):\n",
    "        print(row, col)"
   ]
  }
 ],
 "metadata": {
  "kernelspec": {
   "display_name": "Python 3 (ipykernel)",
   "language": "python",
   "name": "python3"
  },
  "language_info": {
   "codemirror_mode": {
    "name": "ipython",
    "version": 3
   },
   "file_extension": ".py",
   "mimetype": "text/x-python",
   "name": "python",
   "nbconvert_exporter": "python",
   "pygments_lexer": "ipython3",
   "version": "3.10.11"
  },
  "toc": {
   "base_numbering": 1,
   "nav_menu": {},
   "number_sections": true,
   "sideBar": true,
   "skip_h1_title": false,
   "title_cell": "Table of Contents",
   "title_sidebar": "Contents",
   "toc_cell": false,
   "toc_position": {},
   "toc_section_display": true,
   "toc_window_display": false
  }
 },
 "nbformat": 4,
 "nbformat_minor": 4
}
