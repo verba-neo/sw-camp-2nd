{
 "cells": [
  {
   "cell_type": "markdown",
   "metadata": {},
   "source": [
    "# Practice 3\n",
    "\n",
    "> 자료 구조 "
   ]
  },
  {
   "cell_type": "markdown",
   "metadata": {},
   "source": [
    "## 회문 판별\n",
    "\n",
    "> 회문 또는 팰린드롬은 거꾸로 읽어도 제대로 읽는 것과 같은 문장이나 낱말, 숫자, 문자열 등을 말한다. \n",
    "> \n",
    "> 입력으로 짧은 영어단어 word가 주어질 때, 해당 단어가 회문이면 True 회문이 아니면 False를 반환하는 함수를 작성하시오.\n",
    "> \n",
    "> 이때, 반복문(`while`)과 재귀 함수를 사용해서 각각 작성하시오.\n",
    "\n",
    "---\n",
    "\n",
    "예시)\n",
    "\n",
    "```python\n",
    "is_pal_while('tomato') #=> False\n",
    "is_pal_while('racecar') #=> True\n",
    "is_pal_recursive('azza') #=> True\n",
    "```"
   ]
  },
  {
   "cell_type": "code",
   "execution_count": 1,
   "metadata": {},
   "outputs": [],
   "source": [
    "# while\n",
    "\n",
    "'''\n",
    "양쪽 끝부터 확인하면서 비교하기.\n",
    "racecar 라는 단어가 있다고 하면,\n",
    "\n",
    "racecar의 양 끝 r - r 비교,\n",
    "aceca 의 양 끝 a - a 비교,\n",
    "...\n",
    "마지막에 e인 경우(즉, 단어의 길이가 1이하라면) => 종료 이후 True\n",
    "\n",
    "중간에 양 끝이 다른 경우 False\n",
    "'''\n",
    "\n",
    "def is_pal_while(word):\n",
    "    while len(word) > 1:\n",
    "        if word[0] == word[-1]:\n",
    "            word = word[1:-1]\n",
    "        else:\n",
    "            return False\n",
    "    return True"
   ]
  },
  {
   "cell_type": "code",
   "execution_count": 2,
   "metadata": {
    "ExecuteTime": {
     "end_time": "2020-07-22T06:02:28.799426Z",
     "start_time": "2020-07-22T06:02:28.795559Z"
    }
   },
   "outputs": [
    {
     "name": "stdout",
     "output_type": "stream",
     "text": [
      "False\n",
      "True\n",
      "True\n"
     ]
    }
   ],
   "source": [
    "# 해당 코드를 통해 올바른 결과가 나오는지 확인하시오.\n",
    "print(is_pal_while('tomato'))\n",
    "print(is_pal_while('racecar'))\n",
    "print(is_pal_while('azza'))"
   ]
  },
  {
   "cell_type": "code",
   "execution_count": 3,
   "metadata": {},
   "outputs": [],
   "source": [
    "# recursive\n",
    "\n",
    "\n",
    "'''\n",
    "핵심 - 재귀\n",
    "양쪽 끝부터 확인하면서 비교하기.\n",
    "racecar 라는 단어가 있다고 하면,\n",
    "\n",
    "racecar의 양 끝 r - r 비교,\n",
    "aceca의 **양 끝을 비교하는 함수를 호출하여** a - a 비교,\n",
    "...\n",
    "만약에 한단어이하가 남는다면 return True => 종료조건\n",
    "'''\n",
    "\n",
    "def is_pal_recursive(word):\n",
    "    # 1. 종료조건 선언\n",
    "    if len(word) <= 1:\n",
    "        return True\n",
    "    # 2. 양 끝이 같으면 => 다음 subword를 넣어 함수 호출\n",
    "    if word[0] == word[-1]:\n",
    "        return is_pal_recursive(word[1:-1])\n",
    "    # 2-1. 다르면 => False\n",
    "    else:\n",
    "        return False\n",
    "\n"
   ]
  },
  {
   "cell_type": "code",
   "execution_count": 4,
   "metadata": {
    "ExecuteTime": {
     "end_time": "2020-07-22T05:45:13.268969Z",
     "start_time": "2020-07-22T05:45:13.263708Z"
    }
   },
   "outputs": [
    {
     "name": "stdout",
     "output_type": "stream",
     "text": [
      "False\n",
      "True\n",
      "True\n"
     ]
    }
   ],
   "source": [
    "# 해당 코드를 통해 올바른 결과가 나오는지 확인하시오.\n",
    "print(is_pal_recursive('tomato'))\n",
    "print(is_pal_recursive('racecar'))\n",
    "print(is_pal_recursive('azza'))"
   ]
  },
  {
   "cell_type": "code",
   "execution_count": null,
   "metadata": {},
   "outputs": [],
   "source": []
  }
 ],
 "metadata": {
  "kernelspec": {
   "display_name": "Python 3 (ipykernel)",
   "language": "python",
   "name": "python3"
  },
  "language_info": {
   "codemirror_mode": {
    "name": "ipython",
    "version": 3
   },
   "file_extension": ".py",
   "mimetype": "text/x-python",
   "name": "python",
   "nbconvert_exporter": "python",
   "pygments_lexer": "ipython3",
   "version": "3.10.11"
  },
  "toc": {
   "base_numbering": 1,
   "nav_menu": {},
   "number_sections": true,
   "sideBar": true,
   "skip_h1_title": false,
   "title_cell": "Table of Contents",
   "title_sidebar": "Contents",
   "toc_cell": false,
   "toc_position": {},
   "toc_section_display": true,
   "toc_window_display": false
  }
 },
 "nbformat": 4,
 "nbformat_minor": 4
}
