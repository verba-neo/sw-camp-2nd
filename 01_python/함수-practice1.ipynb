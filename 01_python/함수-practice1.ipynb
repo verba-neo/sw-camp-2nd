{
 "cells": [
  {
   "cell_type": "markdown",
   "metadata": {},
   "source": [
    "# Practice 1\n",
    "\n",
    "> 함수"
   ]
  },
  {
   "cell_type": "markdown",
   "metadata": {},
   "source": [
    "## `abs()` 직접 구현하기\n",
    "\n",
    "> 절댓값은 숫자형 자료(int, float)가 들어오면 절댓값을 반환하고, 복소수형 자료(complex)가 들어오면 해당하는 자료의 크기를 반환합니다. \n",
    "> \n",
    "> 파이썬 내장 함수 `abs()`를 직접 구현한 `my_abs()`를 작성하시오.\n",
    "\n",
    "---\n",
    "\n",
    "\n",
    "\n",
    "**복소수 크기 구하는법**\n",
    "<center>\n",
    "    <img src=\"https://user-images.githubusercontent.com/52446416/61273105-b655c580-a7e3-11e9-9859-0a9ffdecdf7d.png\", alt=\"\">\n",
    "</center>\n",
    "\n",
    "예시)\n",
    "\n",
    "```python\n",
    "my_abs(3+4j) #=> 5.0\n",
    "my_abs(-0.0) #=> 0.0\n",
    "my_abs(-5) #=> 5\n",
    "```"
   ]
  },
  {
   "cell_type": "code",
   "execution_count": null,
   "metadata": {},
   "outputs": [],
   "source": [
    "# 아래에 코드를 작성하시오.\n",
    "\n",
    "def my_abs(x):\n",
    "    # 1. 복소수이면, \n",
    "    if type(x) == complex:\n",
    "    # if type(x) is complex:\n",
    "    # if isinstance(x, complex): 비교하는 또다른 방법, OOP 수업에서 다룰 것이다.\n",
    "        return (x.imag**2 + x.real**2) ** (1/2)\n",
    "    # 2. 복소수가 아니면,\n",
    "    else:\n",
    "        if x == 0:\n",
    "            return x ** 2\n",
    "        if x < 0:\n",
    "            return x * -1\n",
    "        else:\n",
    "            return xs "
   ]
  },
  {
   "cell_type": "code",
   "execution_count": null,
   "metadata": {},
   "outputs": [],
   "source": [
    "# 아래의 코드를 실행하여 출력된 결과를 확인하시오.\n",
    "\n",
    "print(my_abs(3+4j))\n",
    "print(my_abs(-0.0))\n",
    "print(my_abs(-5))\n",
    "print(abs(3+4j), abs(-0.0), abs(-5))"
   ]
  },
  {
   "cell_type": "markdown",
   "metadata": {},
   "source": [
    "## `all()` 직접 구현하기\n",
    "\n",
    "> `all()`은 인자로 받는 iterable(range, list)의 모든 요소가 참이거나 비어있으면 True를 반환합니다. \n",
    ">\n",
    "> 파이썬 내장 함수 `all()`을 직접 구현한 `my_all()`을 작성하시오.\n",
    "\n",
    "\n",
    "예시)\n",
    "\n",
    "```python\n",
    "my_all([]) #=> True\n",
    "my_all([1, 2, 5, '6']) #=> True\n",
    "my_all([[], 2, 5, '6']) #=> False\n",
    "```"
   ]
  },
  {
   "cell_type": "code",
   "execution_count": null,
   "metadata": {},
   "outputs": [],
   "source": [
    "# 아래에 코드를 작성하시오.\n",
    "\n",
    "# 하나씩 비교하면서, 모든 요소가 참이거나, 비어있으면..!\n",
    "# 먼저 모든 요소를 순회하면서 (반복문)\n",
    "# 각 요소가 참이 아니면, (조건문)\n",
    "# False로 => 즉, 초기값은 True\n",
    "def my_all(elements):\n",
    "    # 1. 변수 초기화\n",
    "    result = True\n",
    "    # 2. 반복\n",
    "    for element in elements:\n",
    "        # 3. 조건 - 요소가 참이 아니라면\n",
    "        # # 해당 값이 참인지 거짓인지 알기 위해서는 bool 즉 아래와 같이 생각할 수 있는데,\n",
    "        # if bool(element) == False:\n",
    "        # # 거짓인지 확인하는 것은 not True를 확인하는 것이다.\n",
    "        # if not bool(element):\n",
    "        # # if에서는 자동 형변환이 발생한다.\n",
    "        # # 따라서, 다음과 같이 작성할 수 있다.\n",
    "        if not element:\n",
    "            result = False\n",
    "            # 4. 한번이라도 발생하면 종료시켜야 하기 때문에, break\n",
    "            break\n",
    "    # 5. 반환\n",
    "    return result\n",
    "\n",
    "# 그럼 이제 비어있는 경우는 어떻게 처리될까?\n",
    "# 아니다. 비어있다면 반복문이 돌지 않을 것이고, 바로 result에 True가 반환된다.\n",
    "# 즉 이 로직에서는 따로 예외처리를 할 필요가 없다.\n",
    "\n",
    "# 함수는 return과 함께 호출이 종료된다. \n",
    "# 즉, 함수라면 아래와 같이 작성이 가능하다.\n",
    "def my_all(elements):\n",
    "    for element in elements:\n",
    "        # 하나라도 거짓이면,\n",
    "        if not element:\n",
    "            # False 반환\n",
    "            return False\n",
    "    # False 반환된 적이 없다면, 모두 참이므로 True\n",
    "    return True"
   ]
  },
  {
   "cell_type": "code",
   "execution_count": null,
   "metadata": {},
   "outputs": [],
   "source": [
    "# 아래의 코드를 실행하여 출력된 결과를 확인하시오.\n",
    "\n",
    "print(my_all([]))\n",
    "print(my_all([1, 2, 5, '6']))\n",
    "print(my_all([[], 2, 5, '6']))\n",
    "print(all([]), all([1, 2, 5, '6']), all([[], 2, 5, '6']))"
   ]
  },
  {
   "cell_type": "markdown",
   "metadata": {},
   "source": [
    "## `any()` 직접 구현하기\n",
    "\n",
    "> `any()`는 인자로 받는 iterable(range, list)의 요소 중 하나라도 참이면 True를 반환하고, 비어있으면 False를 반환합니다. \n",
    "> \n",
    "> 파이썬 내장 함수 `any()`을 직접 구현한 `my_any()` 함수를 작성하시오.\n",
    "\n",
    "예시)\n",
    "\n",
    "```python\n",
    "my_any([1, 2, 5, '6']) #=> True\n",
    "my_any([[], 2, 5, '6']) #=> True\n",
    "my_any([0]) #=> False\n",
    "```"
   ]
  },
  {
   "cell_type": "code",
   "execution_count": null,
   "metadata": {},
   "outputs": [],
   "source": [
    "# 아래에 코드를 작성하시오.\n",
    "\n",
    "def my_any(elements):\n",
    "    for element in elements:\n",
    "        if element:\n",
    "            return True\n",
    "    return False"
   ]
  },
  {
   "cell_type": "code",
   "execution_count": null,
   "metadata": {},
   "outputs": [],
   "source": [
    "print(my_any([1, 2, 5, '6']))\n",
    "print(my_any([[], 2, 5, '6']))\n",
    "print(my_any([0]))\n",
    "print(any([1, 2, 5, '6']), any([[], 2, 5, '6']), any[0])"
   ]
  }
 ],
 "metadata": {
  "kernelspec": {
   "display_name": "Python 3 (ipykernel)",
   "language": "python",
   "name": "python3"
  },
  "language_info": {
   "codemirror_mode": {
    "name": "ipython",
    "version": 3
   },
   "file_extension": ".py",
   "mimetype": "text/x-python",
   "name": "python",
   "nbconvert_exporter": "python",
   "pygments_lexer": "ipython3",
   "version": "3.10.11"
  },
  "toc": {
   "base_numbering": 1,
   "nav_menu": {},
   "number_sections": true,
   "sideBar": true,
   "skip_h1_title": false,
   "title_cell": "Table of Contents",
   "title_sidebar": "Contents",
   "toc_cell": false,
   "toc_position": {},
   "toc_section_display": true,
   "toc_window_display": false
  }
 },
 "nbformat": 4,
 "nbformat_minor": 4
}
