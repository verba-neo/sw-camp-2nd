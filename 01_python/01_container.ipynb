{
 "cells": [
  {
   "cell_type": "markdown",
   "metadata": {},
   "source": [
    "# 컨테이너(Container)\n",
    "\n",
    "여러 개의 값을 저장할 수 있는 것(객체)을 의미하며, `서로 다른 자료형`을 저장 할 수 있습니다.\n",
    "\n",
    "### 컨테이너 분류\n",
    "- 시퀀스(Sequence)형 : 순서가 있는(ordered) 데이터\n",
    "- 비 시퀀스(Non-sequence)형 : 순서가 없는(unordered) 데이터\n",
    "\n",
    "<img width=\"712\" alt=\"container\" src=\"https://user-images.githubusercontent.com/45934087/148164052-3b12d3a2-a95e-4d4d-ae25-86ca1ba9657b.png\">"
   ]
  },
  {
   "cell_type": "markdown",
   "metadata": {},
   "source": [
    "## 시퀀스(sequence)형 컨테이너\n",
    "\n",
    "`시퀀스`는 데이터가 순서대로 나열된(ordered) 형식을 나타냅니다. \n",
    "\n",
    "* **주의! 순서대로 나열된 것이 `정렬되었다(sorted)`라는 뜻은 아닙니다.**\n",
    "\n",
    "### 특징\n",
    "1. 순서가 있습니다.\n",
    "\n",
    "2. **특정 위치의 데이터를 가리킬 수 있습니다.**\n",
    "\n",
    "### 종류\n",
    "파이썬에서 기본적인 시퀀스 타입은 다음과 같습니다.\n",
    "\n",
    "* 리스트(list)\n",
    "\n",
    "* 튜플(tuple)\n",
    "\n",
    "* 레인지(range)\n",
    "\n",
    "* *문자형(string)*\n",
    "\n",
    "* *바이너리(binary)* : 다루지 않습니다.\n"
   ]
  },
  {
   "cell_type": "markdown",
   "metadata": {},
   "source": [
    "\n",
    "### 리스트 (List)\n",
    "\n",
    "<center><img src=\"https://user-images.githubusercontent.com/18046097/61180421-fe90ae80-a650-11e9-8211-d06f87756d05.png\", alt=\"list figure\"/></center>"
   ]
  },
  {
   "cell_type": "markdown",
   "metadata": {},
   "source": [
    "**생성과 접근**\n",
    "```python\n",
    "[value1, value2, value3]\n",
    "```\n",
    "\n",
    "리스트는 대괄호`[]` 및 `list()` 를 통해 만들 수 있습니다."
   ]
  },
  {
   "cell_type": "code",
   "execution_count": null,
   "metadata": {},
   "outputs": [],
   "source": [
    "# 빈 list를 만들어봅시다.\n",
    "# 변수명 list1 인 list를 대괄호로 만들어봅시다.\n",
    "# 변수명 list2 인 list를 list()로 만들어 봅시다.\n",
    "# 두 변수의 타입을 출력해 봅시다."
   ]
  },
  {
   "cell_type": "code",
   "execution_count": null,
   "metadata": {},
   "outputs": [],
   "source": [
    "list1 = []  # 내가 직접 만들 때\n",
    "list2 = list()  # 다른 자료형을 list로 바꿀 때\n",
    "\n",
    "type(list1), type(list2)"
   ]
  },
  {
   "cell_type": "code",
   "execution_count": null,
   "metadata": {},
   "outputs": [],
   "source": [
    "# 원소를 포함한 list를 만들어 봅시다.\n",
    "# 변수명이 locations인 list에 지역 5곳을 원소로 포함해 만들어 봅시다.\n",
    "# 변수 locations을 출력해 봅시다.\n",
    "# locations의 타입을 출력해 봅시다."
   ]
  },
  {
   "cell_type": "code",
   "execution_count": null,
   "metadata": {},
   "outputs": [],
   "source": [
    "# 리스트/튜플의 변수명은, 반드시 복수형 단어로 짓는다!!!\n",
    "\n",
    "locations = ['서울', '경기', '인천', '강원', '충청']"
   ]
  },
  {
   "cell_type": "code",
   "execution_count": null,
   "metadata": {},
   "outputs": [],
   "source": [
    "# locations의 첫번째 값을 인덱스로 접근해 봅시다."
   ]
  },
  {
   "cell_type": "code",
   "execution_count": null,
   "metadata": {},
   "outputs": [],
   "source": [
    "locations[0]"
   ]
  },
  {
   "cell_type": "markdown",
   "metadata": {},
   "source": [
    "\n",
    "순서가 있는 시퀀스로 인덱스를 통해 접근 가능합니다.\n",
    "- 값에 대한 접근은 `list[idx]` 방식으로 접근합니다.\n",
    "\n",
    "![image](https://user-images.githubusercontent.com/45934087/148164331-f0ff4193-6b05-4d99-bbde-dd1eef13b0b1.png)\n"
   ]
  },
  {
   "cell_type": "code",
   "execution_count": null,
   "metadata": {},
   "outputs": [],
   "source": [
    "# 변수 boxes에 문자열 'A', 'B', 리스트 ['apple', 'banana', 'cherry']를 할당합니다."
   ]
  },
  {
   "cell_type": "code",
   "execution_count": null,
   "metadata": {},
   "outputs": [],
   "source": [
    "boxes = ['A', 'B', ['apple', 'banana', 'cherry']]"
   ]
  },
  {
   "cell_type": "code",
   "execution_count": null,
   "metadata": {},
   "outputs": [],
   "source": [
    "# boxes의 길이를 len 함수를 이용하여 출력해 봅시다."
   ]
  },
  {
   "cell_type": "code",
   "execution_count": null,
   "metadata": {},
   "outputs": [],
   "source": [
    "len(boxes)"
   ]
  },
  {
   "cell_type": "code",
   "execution_count": null,
   "metadata": {},
   "outputs": [],
   "source": [
    "# boxes의 3번째 요소를 인덱스로 접근하여 출력해 봅시다."
   ]
  },
  {
   "cell_type": "code",
   "execution_count": null,
   "metadata": {},
   "outputs": [],
   "source": [
    "boxes[2]"
   ]
  },
  {
   "cell_type": "code",
   "execution_count": null,
   "metadata": {},
   "outputs": [],
   "source": [
    "# boxes의 3번째 요소들 중, 마지막 요소를 negative index로 접근하여 출력해 봅시다."
   ]
  },
  {
   "cell_type": "code",
   "execution_count": null,
   "metadata": {},
   "outputs": [],
   "source": [
    "boxes[2][-1]  # ['apple', 'banana', 'cherry'][-1]"
   ]
  },
  {
   "cell_type": "code",
   "execution_count": null,
   "metadata": {},
   "outputs": [],
   "source": [
    "# boxes의 마지막 요소들 중, 두번째 요소의 첫번째 문자열을 출력해 봅시다."
   ]
  },
  {
   "cell_type": "code",
   "execution_count": null,
   "metadata": {},
   "outputs": [],
   "source": [
    "boxes[-1][1][0]"
   ]
  },
  {
   "cell_type": "markdown",
   "metadata": {},
   "source": [
    "#### 리스트의 변경(Mutate)"
   ]
  },
  {
   "cell_type": "code",
   "execution_count": null,
   "metadata": {},
   "outputs": [],
   "source": [
    "l = [1, 2, 3, 4, 5]\n",
    "print(id(l))\n",
    "\n",
    "# mutate (변경)\n",
    "l[0] = 100\n",
    "l[2] = '300'\n",
    "l[4] = 500\n",
    "\n",
    "print(l, id(l))"
   ]
  },
  {
   "cell_type": "code",
   "execution_count": null,
   "metadata": {},
   "outputs": [],
   "source": [
    "l = [1, 2, 3, 4, 5]\n",
    "print(id(l))\n",
    "\n",
    "# re-assignment (재할당)\n",
    "l = [100, 2, '300', 4, 500]\n",
    "print(l, id(l))"
   ]
  },
  {
   "cell_type": "markdown",
   "metadata": {},
   "source": [
    "### 튜플 (Tuple)\n",
    "\n",
    "**생성과 접근**\n",
    "```python\n",
    "(value1, value2)\n",
    "```\n",
    "\n",
    "튜플은 리스트와 유사하지만, `()`로 묶어서 표현합니다.\n",
    "\n",
    "- tuple은 수정 불가능(불변, immutable)합니다.\n",
    "\n",
    "- 직접 사용하기 보다는 파이썬 내부에서 다양한 용도로 활용되고 있습니다."
   ]
  },
  {
   "cell_type": "code",
   "execution_count": null,
   "metadata": {},
   "outputs": [],
   "source": [
    "# tuple을 만들어봅시다.\n",
    "# 변수명이 my_tuple인 tuple을 만들어 봅시다. 단, 무작위 정수 2개를 포함하여 만듭니다.\n",
    "# my_tuple의 타입을 출력해 봅시다."
   ]
  },
  {
   "cell_type": "code",
   "execution_count": null,
   "metadata": {},
   "outputs": [],
   "source": [
    "my_tuple = (2, 5)\n",
    "type(my_tuple)"
   ]
  },
  {
   "cell_type": "code",
   "execution_count": null,
   "metadata": {},
   "outputs": [],
   "source": [
    "# 아래와 같은 방식으로도 만들 수 있습니다."
   ]
  },
  {
   "cell_type": "code",
   "execution_count": null,
   "metadata": {},
   "outputs": [],
   "source": [
    "l = [1, 2, 3]\n",
    "tuple(l)"
   ]
  },
  {
   "cell_type": "markdown",
   "metadata": {},
   "source": [
    "**튜플 생성 주의 사항**\n",
    "- 단일 항목의 경우"
   ]
  },
  {
   "cell_type": "code",
   "execution_count": null,
   "metadata": {},
   "outputs": [],
   "source": [
    "# 하나의 항목으로 구성된 튜플은 생성 시 값 뒤에 쉼표를 붙여야 합니다.\n",
    "# 아래 코드를 실행하여 변수 a의 타입을 확인해 봅시다."
   ]
  },
  {
   "cell_type": "code",
   "execution_count": null,
   "metadata": {},
   "outputs": [],
   "source": [
    "a = (1, )\n",
    "type(a)"
   ]
  },
  {
   "cell_type": "code",
   "execution_count": null,
   "metadata": {},
   "outputs": [],
   "source": [
    "# 변수명이 single_tuple인 하나의 요소(값)로 구성된 tuple을 만들어 봅시다. (길이가 1)\n",
    "# 하나의 요소(값)로 구성된 tuple은 값 뒤에 쉼표를 붙여서 만듭니다.\n",
    "# single_tuple의 타입을 출력해 봅시다.\n",
    "# single_tuple의 길이를 출력해 봅시다."
   ]
  },
  {
   "cell_type": "code",
   "execution_count": null,
   "metadata": {},
   "outputs": [],
   "source": [
    "single_tuple = (100, )\n",
    "\n",
    "len(single_tuple)"
   ]
  },
  {
   "cell_type": "code",
   "execution_count": null,
   "metadata": {},
   "outputs": [],
   "source": [
    "# 길이가 1인 tuple을 만들 때 쉼표가 없는 경우 어떻게 되는지 확인 해봅시다."
   ]
  },
  {
   "cell_type": "code",
   "execution_count": null,
   "metadata": {},
   "outputs": [],
   "source": [
    "b = (1)\n",
    "type(b)"
   ]
  },
  {
   "cell_type": "markdown",
   "metadata": {},
   "source": [
    "- 복수 항목의 경우"
   ]
  },
  {
   "cell_type": "code",
   "execution_count": null,
   "metadata": {},
   "outputs": [],
   "source": [
    "# 마지막 항목에 붙은 쉼표는 생략 할 수 있습니다.\n",
    "# 아래 코드를 실행하여 변수 b와 c의 타입을 확인해 봅시다."
   ]
  },
  {
   "cell_type": "code",
   "execution_count": null,
   "metadata": {},
   "outputs": [],
   "source": [
    "b = (1, 2, 3, )\n",
    "c = (4, 5, 6)\n",
    "\n",
    "type(b), type(c)"
   ]
  },
  {
   "cell_type": "markdown",
   "metadata": {},
   "source": [
    "> Trailing Comma (맨 마지막에 , 찍기)\n",
    ">\n",
    "> 모든 스타일 가이드에서 권장.\n",
    "> 여러줄로 컨테이너를 만들 때 필수.\n",
    "\n",
    "```python\n",
    "\n",
    "l1 = [1, 2, 3, 4, 5]\n",
    "\n",
    "l2 = [\n",
    "    'apple',\n",
    "    'banana',\n",
    "    'cherry',  # 마지막 요소 후에 미리 , 찍어 놓기!\n",
    "]\n",
    "```"
   ]
  },
  {
   "cell_type": "markdown",
   "metadata": {},
   "source": [
    "**튜플 대입**\n",
    "- 우변의 값을 좌변의 변수에 한번에 할당하는 과정을 의미합니다.\n",
    "- 튜플은 일반적으로 파이썬 내부에서 활용됩니다.\n",
    "    - 추후 함수 파트에서 복수의 값을 반환하는 경우에도 확인할 수 있습니다."
   ]
  },
  {
   "cell_type": "code",
   "execution_count": null,
   "metadata": {},
   "outputs": [],
   "source": [
    "# 파이썬 내부에서는 다음과 같이 활용됩니다. (변수 및 자료형 예제에서 사용된 코드입니다.)"
   ]
  },
  {
   "cell_type": "code",
   "execution_count": null,
   "metadata": {},
   "outputs": [],
   "source": [
    "a, b = 1, 2"
   ]
  },
  {
   "cell_type": "code",
   "execution_count": null,
   "metadata": {},
   "outputs": [],
   "source": [
    "# 실제로는 tuple로 처리됩니다.\n",
    "(a, b) = (3, 4)\n",
    "\n",
    "print(a, b)"
   ]
  },
  {
   "cell_type": "code",
   "execution_count": null,
   "metadata": {},
   "outputs": [],
   "source": [
    "# 변수의 값을 swap하는 코드 역시 tuple을 활용하고 있습니다. \n",
    "(a, b) = (b, a)\n",
    "\n",
    "print(a, b)"
   ]
  },
  {
   "cell_type": "code",
   "execution_count": null,
   "metadata": {},
   "outputs": [],
   "source": [
    "# 변수명이 empty인 빈 tuple을 만들어 봅시다.\n",
    "# 빈 tuple은 빈 괄호 쌍으로 만들어집니다.\n",
    "# empty의 타입을 출력해 봅시다.\n",
    "# empty의 길이를 출력해 봅시다.\n",
    "\n",
    "empty = ()\n",
    "type(empty), len(empty)"
   ]
  },
  {
   "cell_type": "markdown",
   "metadata": {},
   "source": [
    "**튜플 접근**\n",
    "\n",
    "순서가 있는 자료형이기 때문에, idx 접근이 가능합니다."
   ]
  },
  {
   "cell_type": "code",
   "execution_count": null,
   "metadata": {},
   "outputs": [],
   "source": [
    "t = (1, 2, 3, 4, 5)\n",
    "\n",
    "t[0], t[3], t[-1]"
   ]
  },
  {
   "cell_type": "markdown",
   "metadata": {},
   "source": [
    "#### 튜플 변경 (mutate)\n",
    "\n",
    "**불가능**"
   ]
  },
  {
   "cell_type": "code",
   "execution_count": null,
   "metadata": {},
   "outputs": [],
   "source": [
    "t = (1, 2, 3, 4, 5)\n",
    "print(id(t))\n",
    "\n",
    "# 재할당은 변경이 아니다!\n",
    "t = (1, 200, 3, 400, 5)\n",
    "print(id(t))"
   ]
  },
  {
   "cell_type": "code",
   "execution_count": null,
   "metadata": {},
   "outputs": [],
   "source": [
    "t = (1, 2, 3, 4, 5)\n",
    "\n",
    "# 접근은 가능\n",
    "print(t[1])\n",
    "\n",
    "# 변경은 불가능 (immutable)\n",
    "t[1] = 200"
   ]
  },
  {
   "cell_type": "markdown",
   "metadata": {},
   "source": [
    "### 레인지 (range())\n",
    "\n",
    "`range` 는 정수의 시퀀스를 나타내기 위해 사용됩니다.\n",
    "\n",
    "기본형 : `range(n)` \n",
    "\n",
    "\n",
    "> 0부터 n-1까지 값을 가짐\n",
    "\n",
    "\n",
    "범위 지정 : `range(n, m)` \n",
    "\n",
    "> n부터 m-1까지 값을 가짐\n",
    "\n",
    "범위 및 스텝 지정 : `range(n, m, s)`\n",
    "\n",
    "> n부터 m-1까지 +s만큼 증가한다"
   ]
  },
  {
   "cell_type": "code",
   "execution_count": null,
   "metadata": {},
   "outputs": [],
   "source": [
    "# range를 만들어봅시다.\n",
    "# 0부터 2까지 값을 가지는 range를 만들고 타입을 출력해 봅시다."
   ]
  },
  {
   "cell_type": "code",
   "execution_count": null,
   "metadata": {},
   "outputs": [],
   "source": [
    "r = range(0, 10)\n",
    "print(type(r))"
   ]
  },
  {
   "cell_type": "code",
   "execution_count": null,
   "metadata": {},
   "outputs": [],
   "source": [
    "# 0부터 9까지 값을 가지는 range를 만들고 list로 형 변환을 해 봅시다.\n",
    "# 작성한 range를 list()로 감싸 형 변환 할 수 있습니다."
   ]
  },
  {
   "cell_type": "code",
   "execution_count": null,
   "metadata": {},
   "outputs": [],
   "source": [
    "r1 = range(0, 10)\n",
    "r2 = range(10)\n",
    "\n",
    "list(r1), list(r2)"
   ]
  },
  {
   "cell_type": "code",
   "execution_count": null,
   "metadata": {},
   "outputs": [],
   "source": [
    "# 4부터 8까지의 숫자를 담은 range를 만들고 list로 형 변환을 해 봅시다."
   ]
  },
  {
   "cell_type": "code",
   "execution_count": null,
   "metadata": {},
   "outputs": [],
   "source": [
    "list(range(4, 9))"
   ]
  },
  {
   "cell_type": "code",
   "execution_count": null,
   "metadata": {},
   "outputs": [],
   "source": [
    "# range(start, end, [step, ])을 활용합니다.\n",
    "# 0부터 -9까지 담긴 range를 만들고 list로 형 변환을 해 봅시다.\n",
    "# 출력 결과는 다음과 같습니다.\n",
    "# [0, -1, -2, -3, -4, -5, -6, -7, -8, -9]"
   ]
  },
  {
   "cell_type": "code",
   "execution_count": null,
   "metadata": {},
   "outputs": [],
   "source": [
    "r2 = range(0, 10, 2)\n",
    "list(r2)\n",
    "\n",
    "r3 = range(0, -10, -1)\n",
    "list(r3)"
   ]
  },
  {
   "cell_type": "code",
   "execution_count": null,
   "metadata": {},
   "outputs": [],
   "source": [
    "# 1 ~ 100 까지의 짝수만 모으기\n",
    "print(list(range(2, 101, 2)))\n",
    "\n",
    "# 1 ~ 100 까지의 7의 배수만 모으기\n",
    "print(list(range(7, 101, 7)))"
   ]
  },
  {
   "cell_type": "markdown",
   "metadata": {},
   "source": [
    "#### range 자료형의 접근"
   ]
  },
  {
   "cell_type": "code",
   "execution_count": null,
   "metadata": {},
   "outputs": [],
   "source": [
    "# range < sequnce \n",
    "# idx 접근 가능\n",
    "\n",
    "r = range(10)\n",
    "r[0], r[-1]"
   ]
  },
  {
   "cell_type": "markdown",
   "metadata": {},
   "source": [
    "#### range 자료형의 변경 (X)"
   ]
  },
  {
   "cell_type": "code",
   "execution_count": null,
   "metadata": {},
   "outputs": [],
   "source": [
    "# 내부 값 변경 불가능(immutable)\n",
    "\n",
    "r = range(10)\n",
    "r[0] = 10"
   ]
  },
  {
   "cell_type": "markdown",
   "metadata": {},
   "source": [
    "### 패킹 / 언패킹 연산자 (Packing / Unpacking Operator)\n",
    "모든 시퀀스형(리스트, 튜플 등)은 패킹/언패킹 연산자 * 를 사용하여 객체의 패킹 또는 언패킹이 가능합니다.\n",
    "```python\n",
    "x, *y = i, j, k ...\n",
    "```"
   ]
  },
  {
   "cell_type": "markdown",
   "metadata": {},
   "source": [
    "**패킹**\n",
    "- 대입문의 좌변 변수에 위치합니다.\n",
    "- 우변의 객체 수가 좌변의 변수 수보다 많을 경우 객체를 순서대로 대입합니다.\n",
    "- 나머지 항목들은 모두 별 기호 표시된 변수에 리스트로 대입합니다."
   ]
  },
  {
   "cell_type": "code",
   "execution_count": null,
   "metadata": {},
   "outputs": [],
   "source": [
    "# x 를 패킹을 통해 저장해 봅시다."
   ]
  },
  {
   "cell_type": "code",
   "execution_count": null,
   "metadata": {},
   "outputs": [],
   "source": [
    "x, y, *z = 1, 2, 3, 4, 5, 6\n",
    "print(x, y, z)\n",
    "\n",
    "# x, *y, *z = 1, 2, 3, 4, 5, 6\n",
    "# y와 z가 몇개를 묶는다는것을 알 수 없음 => 에러"
   ]
  },
  {
   "cell_type": "markdown",
   "metadata": {},
   "source": [
    "**언패킹**\n",
    "- argument 이름이 *로 시작하는 경우, argument unpacking이라고 부릅니다.\n",
    "- 패킹의 경우, 리스트로 대입합니다."
   ]
  },
  {
   "cell_type": "code",
   "execution_count": null,
   "metadata": {},
   "outputs": [],
   "source": [
    "def multiply(x, y, z):\n",
    "    return x * y * z"
   ]
  },
  {
   "cell_type": "markdown",
   "metadata": {},
   "source": [
    "- 언패킹의 경우, 튜플 형태로 대입합니다."
   ]
  },
  {
   "cell_type": "code",
   "execution_count": null,
   "metadata": {},
   "outputs": [],
   "source": [
    "numbers = [1, 2, 3]\n",
    "# multiply(numbers)  # multiply([1, 2, 3])\n",
    "multiply(*numbers)  # multiply(1, 2, 3) "
   ]
  },
  {
   "cell_type": "markdown",
   "metadata": {},
   "source": [
    "**패킹/언패킹 연산자 주의사항**\n",
    "\n",
    "` * ` 연산자가 곱셈을 의미하는지 패킹/언패킹 연산자인지 구분하여야 합니다.\n",
    "- 패킹/언패킹 연산자의 경우\n",
    "    1. 연산자가 대입식의 좌측에 위치하는 경우\n",
    "    2. 연산자가 단항 연산자로 사용되는 경우\n",
    "        - 단항 연산자 : 하나의 항을 대상으로 연산이 이루어지는 연산자\n",
    "        \n",
    "        \n",
    "- 산술연산자의 경우\n",
    "    1. 연산자가 이항연산자로 사용되는 경우\n",
    "        - 이항 연산자 : 두 개의 항을 대상으로 연산이 이루어지는 연산자"
   ]
  },
  {
   "cell_type": "markdown",
   "metadata": {},
   "source": [
    "## 비 시퀀스형(Non-sequence) 컨테이너\n",
    "\n",
    "- 세트(set)\n",
    "\n",
    "- 딕셔너리(dictionary)"
   ]
  },
  {
   "cell_type": "markdown",
   "metadata": {},
   "source": [
    "### 세트 (Set)\n",
    "\n",
    "`set`은 순서가 없고 중복된 값이 없는 자료구조입니다.\n",
    "\n",
    "* `set`은 수학에서의 집합과 동일하게 처리됩니다. \n",
    "\n",
    "* `set`은 중괄호`{}`를 통해 만들며, 순서가 없고 중복된 값이 없습니다.\n",
    "\n",
    "* 담고있는 객체를 삽입, 변경, 삭제 가능 (mutable) 합니다.\n",
    "\n",
    "* 빈 세트를 만들려면 `set()`을 사용해야 합니다. (`{}`로 사용 불가능)\n",
    "\n",
    "* 활용 가능한 연산자는 차집합(`-`), 합집합(`|`), 교집합(`&`)입니다.\n",
    "\n",
    "**생성과 접근**\n",
    "```python\n",
    "{value1, value2, value3}\n",
    "```"
   ]
  },
  {
   "cell_type": "code",
   "execution_count": null,
   "metadata": {},
   "outputs": [],
   "source": [
    "# set 두개를 만들어서 연산자들을 활용해봅시다."
   ]
  },
  {
   "cell_type": "code",
   "execution_count": null,
   "metadata": {},
   "outputs": [],
   "source": [
    "set_a = {1, 2, 3}\n",
    "set_b = {9, 6, 3}"
   ]
  },
  {
   "cell_type": "markdown",
   "metadata": {},
   "source": [
    "* 차집합은 연산자 `-`를 사용합니다."
   ]
  },
  {
   "cell_type": "code",
   "execution_count": null,
   "metadata": {},
   "outputs": [],
   "source": [
    "# set_a와 set_b의 차집합을 구해봅시다."
   ]
  },
  {
   "cell_type": "code",
   "execution_count": null,
   "metadata": {},
   "outputs": [],
   "source": [
    "set_a - set_b"
   ]
  },
  {
   "cell_type": "markdown",
   "metadata": {},
   "source": [
    "* 합집합은 연산자 `|`를 사용합니다."
   ]
  },
  {
   "cell_type": "code",
   "execution_count": null,
   "metadata": {},
   "outputs": [],
   "source": [
    "# set_a와 set_b의 합집합을 구해봅시다."
   ]
  },
  {
   "cell_type": "code",
   "execution_count": null,
   "metadata": {},
   "outputs": [],
   "source": [
    "set_a | set_b"
   ]
  },
  {
   "cell_type": "markdown",
   "metadata": {},
   "source": [
    "* 교집합은 연산자 `&`을 사용합니다."
   ]
  },
  {
   "cell_type": "code",
   "execution_count": null,
   "metadata": {},
   "outputs": [],
   "source": [
    "# set_a와 set_b의 교집합을 구해봅시다."
   ]
  },
  {
   "cell_type": "code",
   "execution_count": null,
   "metadata": {},
   "outputs": [],
   "source": [
    "set_a & set_b"
   ]
  },
  {
   "cell_type": "code",
   "execution_count": null,
   "metadata": {},
   "outputs": [],
   "source": [
    "# set은 중복된 값이 있을 수 없습니다."
   ]
  },
  {
   "cell_type": "code",
   "execution_count": null,
   "metadata": {},
   "outputs": [],
   "source": [
    "set_c = {1, 1, 1, 2, 2, 3, 3, 3}\n",
    "set_c"
   ]
  },
  {
   "cell_type": "markdown",
   "metadata": {},
   "source": [
    "* `set`을 활용하면 `list`의 중복된 값을 손쉽게 제거할 수 있습니다.\n",
    "* 단, `set`으로 변환하는 순간 순서를 보장할 수 없습니다."
   ]
  },
  {
   "cell_type": "code",
   "execution_count": null,
   "metadata": {},
   "outputs": [],
   "source": [
    "# set으로 중복된 값을 제거해봅시다.\n",
    "# 문자열 서울, 서울, 대전, 광주, 서울, 대전, 부산, 부산를 원소로 가지는 set를 만듭니다.\n",
    "# 생성한 세트의 길이를 출력해 봅시다."
   ]
  },
  {
   "cell_type": "code",
   "execution_count": null,
   "metadata": {},
   "outputs": [],
   "source": [
    "locations = [1, 1, 2, 3, 1, 2, 4, 4]\n",
    "set(locations), len(set(locations))"
   ]
  },
  {
   "cell_type": "code",
   "execution_count": null,
   "metadata": {},
   "outputs": [],
   "source": [
    "# 생성한 세트를 출력해 봅시다.\n",
    "# 세트는 순서를 보장하지 않습니다.\n",
    "s = 'qwerasdf'\n",
    "l = list(s)\n",
    "set_l = set(l)\n",
    "\n",
    "print(set_l)\n",
    "list(set_l)"
   ]
  },
  {
   "cell_type": "markdown",
   "metadata": {},
   "source": [
    "### 딕셔너리 (dictionary)\n",
    "\n",
    "`dictionary`는 `key`와 `value`가 쌍으로 이뤄져있습니다.\n",
    "\n",
    "\n",
    "<center><img src=\"https://user-images.githubusercontent.com/18046097/61180427-1405d880-a651-11e9-94e1-1cc5c2a2ff34.png\"></center> "
   ]
  },
  {
   "cell_type": "markdown",
   "metadata": {},
   "source": [
    "**생성과 접근**\n",
    "\n",
    "```python\n",
    "{Key1:Value1, Key2:Value2, Key3:Value3, ...}\n",
    "```\n",
    "\n",
    "* `{}`를 통해 만들며, `dict()`로 만들 수 있습니다.\n",
    "* 순서를 보장하지 않습니다.\n",
    "* `key`는 **변경 불가능(immutable)한 데이터**만 가능합니다. (immutable : string, integer, float, boolean, tuple, range)\n",
    "* `value`는 `list`, `dictionary`를 포함한 모든 것이 가능합니다."
   ]
  },
  {
   "cell_type": "code",
   "execution_count": null,
   "metadata": {},
   "outputs": [],
   "source": [
    "# 비어있는 dictionary를 두가지 방법으로 만들어봅시다.\n",
    "# {}와 dict()로 만들 수 있습니다.\n",
    "# 두 변수의 타입을 출력해 봅시다.\n",
    "\n",
    "d1 = {}\n",
    "d2 = dict()\n",
    "\n",
    "print(d1, d2)"
   ]
  },
  {
   "cell_type": "code",
   "execution_count": null,
   "metadata": {},
   "outputs": [],
   "source": [
    "# dictionary에 중복된 key는 존재할 수 없습니다."
   ]
  },
  {
   "cell_type": "code",
   "execution_count": null,
   "metadata": {},
   "outputs": [],
   "source": [
    "d = {1: 1, 2: 2, 3: 3, 1: 4, 2: 1}  # 중복된 key가 있다? 잘못 만든 dict\n",
    "d"
   ]
  },
  {
   "cell_type": "code",
   "execution_count": null,
   "metadata": {},
   "outputs": [],
   "source": [
    "# 지역번호가 담긴 전화번호부를 만들어봅시다.\n",
    "# 변수 phone_book에 key를 지역명, value를 지역번호로 가지는 원소를 작성합니다.\n",
    "# 예) 서울 - 02"
   ]
  },
  {
   "cell_type": "code",
   "execution_count": null,
   "metadata": {},
   "outputs": [],
   "source": [
    "phone_book = {\n",
    "    '서울': '02',\n",
    "    '경기': '031',\n",
    "    '인천': '032',\n",
    "    '강원': '033',\n",
    "    '경북': '054',\n",
    "}"
   ]
  },
  {
   "cell_type": "code",
   "execution_count": null,
   "metadata": {},
   "outputs": [],
   "source": [
    "# 위에서 작성한 phone_book이 가지고 있는 key 목록을 확인 해 봅시다.\n",
    "# dictionary의 .keys() 메소드를 활용하여 key를 확인 해볼 수 있습니다.\n",
    "\n",
    "phone_book.keys()  # 함수 O, 메서드 O"
   ]
  },
  {
   "cell_type": "code",
   "execution_count": null,
   "metadata": {},
   "outputs": [],
   "source": [
    "# 위에서 작성한 phone_book이 가지고 있는 value 목록을 확인 해 봅시다.\n",
    "# 딕셔너리의 .values() 메소드를 활용하여 value를 확인 해볼 수 있습니다.\n",
    "\n",
    "phone_book.values()"
   ]
  },
  {
   "cell_type": "code",
   "execution_count": null,
   "metadata": {},
   "outputs": [],
   "source": [
    "# 위에서 작성한 phone_book이 가지고 있는 key와 value 목록을 확인 해 봅시다.\n",
    "# 딕셔너리의 .items() 메소드를 활용하여 key, value를 확인 해볼 수 있습니다.\n",
    "\n",
    "phone_book.items()"
   ]
  },
  {
   "cell_type": "markdown",
   "metadata": {},
   "source": [
    "#### 딕셔너리 접근과 변경"
   ]
  },
  {
   "cell_type": "code",
   "execution_count": 2,
   "metadata": {},
   "outputs": [],
   "source": [
    "d = {'a': 1, 'b': 2, 'c': 3}"
   ]
  },
  {
   "cell_type": "code",
   "execution_count": 3,
   "metadata": {},
   "outputs": [
    {
     "data": {
      "text/plain": [
       "1"
      ]
     },
     "execution_count": 3,
     "metadata": {},
     "output_type": "execute_result"
    }
   ],
   "source": [
    "# key 로 접근 => value 추출\n",
    "\n",
    "d['a']"
   ]
  },
  {
   "cell_type": "code",
   "execution_count": 4,
   "metadata": {},
   "outputs": [
    {
     "data": {
      "text/plain": [
       "{'a': 100, 'b': 2, 'c': 3}"
      ]
     },
     "execution_count": 4,
     "metadata": {},
     "output_type": "execute_result"
    }
   ],
   "source": [
    "# key 로 접근 => value 를 변경\n",
    "d['a'] = 100\n",
    "\n",
    "d"
   ]
  },
  {
   "cell_type": "markdown",
   "metadata": {},
   "source": [
    "# 형변환(Type conversion, Typecasting)\n",
    "\n",
    "파이썬에서 데이터타입은 서로 변환할 수 있습니다.\n",
    "\n",
    "- 암시적 형변환\n",
    "- 명시적 형변환"
   ]
  },
  {
   "cell_type": "markdown",
   "metadata": {},
   "source": [
    "## 컨테이너형 형변환\n",
    "\n",
    "파이썬에서 컨테이너는 서로 변환할 수 있습니다.\n",
    "\n",
    "<img width=\"708\" alt=\"typecasting\" src=\"https://user-images.githubusercontent.com/18046097/61180466-a6a67780-a651-11e9-8c0a-adb9e1ee04de.png\">\n"
   ]
  },
  {
   "cell_type": "code",
   "execution_count": null,
   "metadata": {},
   "outputs": [],
   "source": [
    "# 하나의 결과를 확인 한 후, 주석 `#` 을 활용하여 이전의 코드를 비활성화 합니다.\n",
    "# 형변환 후의 결과를 확인 합니다."
   ]
  },
  {
   "cell_type": "code",
   "execution_count": null,
   "metadata": {},
   "outputs": [],
   "source": [
    "# list를 형변환 해봅시다.\n",
    "l = [1, 2, 3, 4]\n",
    "\n",
    "# str(l) \n",
    "# tuple(l)\n",
    "# set(l)    # list => set => list (중복이 제거된 리스트)\n",
    "# range(l)  => X\n",
    "# dict(l)  => X"
   ]
  },
  {
   "cell_type": "code",
   "execution_count": null,
   "metadata": {},
   "outputs": [],
   "source": [
    "# tuple을 형변환 해봅시다.\n",
    "t = (1, 2, 3, 4)\n",
    "\n",
    "# str(t)\n",
    "# list(t)\n",
    "# set(t)\n",
    "# range(t)  => X\n",
    "# dict(t)  => X"
   ]
  },
  {
   "cell_type": "code",
   "execution_count": null,
   "metadata": {},
   "outputs": [],
   "source": [
    "# range를 형변환 해봅시다.\n",
    "r = range(1, 5)\n",
    "\n",
    "# str(r)\n",
    "# list(r)  # N ~ M 의 정수로 이루어진 리스트 만들기\n",
    "# set(r)\n",
    "# tuple(r)\n",
    "# dict(r)  => X"
   ]
  },
  {
   "cell_type": "code",
   "execution_count": null,
   "metadata": {},
   "outputs": [],
   "source": [
    "# set을 형변환 해봅시다.\n",
    "s = {1, 2, 3, 4}\n",
    "\n",
    "# str(s)\n",
    "# list(s)\n",
    "# tuple(s)\n",
    "# range(s)  => X\n",
    "# dict(s)  => X"
   ]
  },
  {
   "cell_type": "code",
   "execution_count": null,
   "metadata": {},
   "outputs": [],
   "source": [
    "# dictionary를 형변환 해봅시다.\n",
    "d = {'name': 'yu', 'year': 2023}\n",
    "\n",
    "# str(d)\n",
    "# list(d)\n",
    "# tuple(d)\n",
    "# set(d)\n",
    "# range(d)  => X"
   ]
  },
  {
   "cell_type": "markdown",
   "metadata": {},
   "source": [
    "# 정리\n",
    "## 컨테이너(Container)\n",
    "<center><img src=\"https://user-images.githubusercontent.com/18046097/61180439-44e60d80-a651-11e9-9adc-e60fa57c2165.png\", alt=\"container\"/></center>"
   ]
  },
  {
   "cell_type": "markdown",
   "metadata": {},
   "source": [
    "## 시퀀스형 연산자(Sqeuence Type Operator)\n",
    "\n",
    "### 산술 연산자 (+)\n",
    "시퀀스를 연결(concatenation)할 수 있습니다. "
   ]
  },
  {
   "cell_type": "code",
   "execution_count": null,
   "metadata": {},
   "outputs": [],
   "source": [
    "# 두 list [1, 2] 와 ['a'] 를 + 를 이용하여 합쳐봅시다."
   ]
  },
  {
   "cell_type": "code",
   "execution_count": null,
   "metadata": {},
   "outputs": [],
   "source": [
    "[1, 2] + ['a']"
   ]
  },
  {
   "cell_type": "code",
   "execution_count": null,
   "metadata": {},
   "outputs": [],
   "source": [
    "# 두 튜플 (1, 2) 와 ('a',) 를 + 를 이용하여 합쳐봅시다."
   ]
  },
  {
   "cell_type": "code",
   "execution_count": null,
   "metadata": {},
   "outputs": [],
   "source": [
    "t1 = (1, 2)\n",
    "t2 = ('a', )\n",
    "\n",
    "t3 = t1 + t2\n",
    "\n",
    "print(id(t1), id(t2), id(t3))"
   ]
  },
  {
   "cell_type": "code",
   "execution_count": null,
   "metadata": {},
   "outputs": [],
   "source": [
    "# range에는 사용할 수 없습니다.\n",
    "# range(1), range(2, 5) 를 + 를 이용하여 합치고자 할 때 발생하는 오류를 확인해 봅시다."
   ]
  },
  {
   "cell_type": "code",
   "execution_count": null,
   "metadata": {},
   "outputs": [],
   "source": [
    "range(1) + range(2, 5)"
   ]
  },
  {
   "cell_type": "code",
   "execution_count": null,
   "metadata": {},
   "outputs": [],
   "source": [
    "# 두 문자열 '12' 와 'a' 를 + 를 이용하여 합쳐봅시다."
   ]
  },
  {
   "cell_type": "code",
   "execution_count": null,
   "metadata": {},
   "outputs": [],
   "source": [
    "'12' + 'a'\n",
    "'a' + '12'"
   ]
  },
  {
   "cell_type": "markdown",
   "metadata": {},
   "source": [
    "### 반복 연산자 (*)\n",
    "시퀀스를 반복할 수 있습니다."
   ]
  },
  {
   "cell_type": "code",
   "execution_count": null,
   "metadata": {},
   "outputs": [],
   "source": [
    "# 리스트 [0] 을 *을 이용해 8번 반복해봅시다."
   ]
  },
  {
   "cell_type": "code",
   "execution_count": null,
   "metadata": {},
   "outputs": [],
   "source": [
    "[0] * 8"
   ]
  },
  {
   "cell_type": "code",
   "execution_count": null,
   "metadata": {},
   "outputs": [],
   "source": [
    "# 튜플 (1, 2) 를 * 을 활용해 3번 반복해봅시다."
   ]
  },
  {
   "cell_type": "code",
   "execution_count": null,
   "metadata": {},
   "outputs": [],
   "source": [
    "(1, 2) * 3"
   ]
  },
  {
   "cell_type": "code",
   "execution_count": null,
   "metadata": {},
   "outputs": [],
   "source": [
    "# range에는 사용할 수 없습니다.\n",
    "# range(1) 을 * 연산자로 3번 반복하려고 할 때 발생하는 오류를 확인해 봅시다."
   ]
  },
  {
   "cell_type": "code",
   "execution_count": null,
   "metadata": {},
   "outputs": [],
   "source": [
    "range(1) * 3"
   ]
  },
  {
   "cell_type": "code",
   "execution_count": null,
   "metadata": {},
   "outputs": [],
   "source": [
    "# 문자열 'hi' 를 * 을 활용해 3번 반복해봅시다."
   ]
  },
  {
   "cell_type": "code",
   "execution_count": null,
   "metadata": {},
   "outputs": [],
   "source": [
    "'hi' * 3"
   ]
  },
  {
   "cell_type": "markdown",
   "metadata": {},
   "source": [
    "## 기타 : 인덱싱/슬라이싱 (Indexing/Slicing)\n",
    "`[]`를 통한 값을 접근하고, `[:]`을 통해 슬라이싱할 수 있습니다. (data structure 챕터에서 자세하게 학습합니다.)"
   ]
  },
  {
   "cell_type": "markdown",
   "metadata": {},
   "source": [
    "### 인덱싱\n",
    "시퀀스의 특정 인덱스 값에 접근 할 수 있습니다.\n",
    "- 해당 인덱스가 없는 경우 IndexError가 발생합니다."
   ]
  },
  {
   "cell_type": "code",
   "execution_count": null,
   "metadata": {},
   "outputs": [],
   "source": [
    "# 리스트를 인덱싱을 통해 값에 접근해봅시다.\n",
    "# 리스트 [1, 2, 3]의 세번째 값을 인덱싱으로 확인해봅시다."
   ]
  },
  {
   "cell_type": "code",
   "execution_count": 5,
   "metadata": {},
   "outputs": [
    {
     "data": {
      "text/plain": [
       "3"
      ]
     },
     "execution_count": 5,
     "metadata": {},
     "output_type": "execute_result"
    }
   ],
   "source": [
    "[1, 2, 3][2]"
   ]
  },
  {
   "cell_type": "code",
   "execution_count": null,
   "metadata": {},
   "outputs": [],
   "source": [
    "# 튜플을 인덱싱을 통해 값에 접근해봅시다.\n",
    "# 튜플 (1, 2, 3)의 첫번째 값을 인덱싱으로 확인해봅시다."
   ]
  },
  {
   "cell_type": "code",
   "execution_count": 6,
   "metadata": {},
   "outputs": [
    {
     "data": {
      "text/plain": [
       "1"
      ]
     },
     "execution_count": 6,
     "metadata": {},
     "output_type": "execute_result"
    }
   ],
   "source": [
    "(1, 2, 3)[0]"
   ]
  },
  {
   "cell_type": "code",
   "execution_count": null,
   "metadata": {},
   "outputs": [],
   "source": [
    "# range를 인덱싱을 통해 값에 접근해봅시다.\n",
    "# range(3)의 세번째 값을 인덱싱으로 확인해봅시다."
   ]
  },
  {
   "cell_type": "code",
   "execution_count": 7,
   "metadata": {},
   "outputs": [
    {
     "data": {
      "text/plain": [
       "2"
      ]
     },
     "execution_count": 7,
     "metadata": {},
     "output_type": "execute_result"
    }
   ],
   "source": [
    "range(3)[2]"
   ]
  },
  {
   "cell_type": "code",
   "execution_count": null,
   "metadata": {},
   "outputs": [],
   "source": [
    "# 문자열을 인덱싱을 통해 값에 접근해봅시다.\n",
    "# 문자열 'abc'의 첫번째 값을 인덱싱으로 확인해봅시다."
   ]
  },
  {
   "cell_type": "code",
   "execution_count": 8,
   "metadata": {},
   "outputs": [
    {
     "data": {
      "text/plain": [
       "'a'"
      ]
     },
     "execution_count": 8,
     "metadata": {},
     "output_type": "execute_result"
    }
   ],
   "source": [
    "'abc'[0]"
   ]
  },
  {
   "cell_type": "code",
   "execution_count": null,
   "metadata": {},
   "outputs": [],
   "source": [
    "# 찾고자 하는 인덱스가 존재하지 않을때 오류가 발생합니다.\n",
    "# 문자열 apple의 100번째 값을 인덱싱으로 확인하고자 할 때 발생하는 오류를 확인해봅시다."
   ]
  },
  {
   "cell_type": "code",
   "execution_count": 9,
   "metadata": {},
   "outputs": [
    {
     "ename": "IndexError",
     "evalue": "string index out of range",
     "output_type": "error",
     "traceback": [
      "\u001b[1;31m---------------------------------------------------------------------------\u001b[0m",
      "\u001b[1;31mIndexError\u001b[0m                                Traceback (most recent call last)",
      "Cell \u001b[1;32mIn[9], line 1\u001b[0m\n\u001b[1;32m----> 1\u001b[0m \u001b[38;5;124;43m'\u001b[39;49m\u001b[38;5;124;43mapple\u001b[39;49m\u001b[38;5;124;43m'\u001b[39;49m\u001b[43m[\u001b[49m\u001b[38;5;241;43m100\u001b[39;49m\u001b[43m]\u001b[49m\n",
      "\u001b[1;31mIndexError\u001b[0m: string index out of range"
     ]
    }
   ],
   "source": [
    "'apple'[100]"
   ]
  },
  {
   "cell_type": "markdown",
   "metadata": {},
   "source": [
    "### 슬라이싱\n",
    "- Sequence[start:end[:step]]\n",
    "\n",
    "시퀀스를 특정 단위로 슬라이싱 할 수 있습니다."
   ]
  },
  {
   "cell_type": "code",
   "execution_count": 10,
   "metadata": {},
   "outputs": [
    {
     "name": "stdout",
     "output_type": "stream",
     "text": [
      "[2, 3, 4]\n",
      "(1, 2)\n",
      "range(5, 8)\n",
      "cd\n"
     ]
    }
   ],
   "source": [
    "# 아래 코드들을 실행한 결과를 확인하여 슬라이싱의 작동 원리를 파악해봅시다.\n",
    "print([1, 2, 3, 4][1:4])\n",
    "print((1, 2, 3)[:2])\n",
    "print(range(10)[5:8])\n",
    "print('abcd'[2:4])  # slice 마지막 인덱스가 더 크더라도, 에러가 발생하지 않는다."
   ]
  },
  {
   "cell_type": "markdown",
   "metadata": {},
   "source": [
    "시퀀스를 `k` 간격으로 슬라이싱 할 수 있습니다."
   ]
  },
  {
   "cell_type": "code",
   "execution_count": null,
   "metadata": {},
   "outputs": [],
   "source": [
    "# 아래 코드들을 실행한 결과를 확인하여 슬라이싱의 작동 원리를 파악해봅시다.\n",
    "# 문자열, 튜플, 레인지에서 모두 동일하게 동작합니다.\n"
   ]
  },
  {
   "cell_type": "code",
   "execution_count": 11,
   "metadata": {},
   "outputs": [],
   "source": [
    "# 아래의 코드를 실행하여 결과를 확인해 봅시다.\n",
    "s = 'abcdefghi'  # idx 0 ~ 8"
   ]
  },
  {
   "cell_type": "code",
   "execution_count": 13,
   "metadata": {},
   "outputs": [
    {
     "name": "stdout",
     "output_type": "stream",
     "text": [
      "abc\n",
      "fghi\n",
      "abcdefghi\n",
      "ihgfedcba\n"
     ]
    }
   ],
   "source": [
    "print(s[:3])  # 시작 ~ 3 => 시작, 1, 2 => 'abc'\n",
    "print(s[5:])  # 5 ~ 끝 => 5, 6, 7, 끝 => 'fghi'\n",
    "print(s[::])\n",
    "print(s[::-1])"
   ]
  },
  {
   "cell_type": "code",
   "execution_count": 24,
   "metadata": {},
   "outputs": [
    {
     "name": "stdout",
     "output_type": "stream",
     "text": [
      "\n",
      "fed\n"
     ]
    },
    {
     "data": {
      "text/plain": [
       "[5, 3]"
      ]
     },
     "execution_count": 24,
     "metadata": {},
     "output_type": "execute_result"
    }
   ],
   "source": [
    "# idx 의 시작 => 0\n",
    "# idx 의 끝 => len() - 1\n",
    "s[::2]\n",
    "print(s[2:5:-1])  # [Start 할 숫자 : End 할 숫자 : 움직일 방향+칸수]\n",
    "print(s[5:2:-1])"
   ]
  },
  {
   "cell_type": "markdown",
   "metadata": {},
   "source": [
    "# 정리"
   ]
  },
  {
   "cell_type": "markdown",
   "metadata": {},
   "source": [
    "## 변수(Variable)와 자료형(Data Type)\n",
    "\n",
    "<center><img width=800 height=400 src=\"https://user-images.githubusercontent.com/9452521/87640197-55a7f280-c781-11ea-9cff-19c022ce704a.png\", alt=\"variable\"/></center>\n"
   ]
  },
  {
   "cell_type": "markdown",
   "metadata": {},
   "source": [
    "## 컨테이너(Container)\n",
    "<center><img src=\"https://user-images.githubusercontent.com/18046097/61180439-44e60d80-a651-11e9-9adc-e60fa57c2165.png\", alt=\"container\"/></center>"
   ]
  },
  {
   "cell_type": "markdown",
   "metadata": {},
   "source": [
    "## 함수 (Function)\n",
    "- 특정 명령을 수행하는 함수 묶음을 말합니다."
   ]
  },
  {
   "cell_type": "code",
   "execution_count": 25,
   "metadata": {},
   "outputs": [
    {
     "data": {
      "text/plain": [
       "90"
      ]
     },
     "execution_count": 25,
     "metadata": {},
     "output_type": "execute_result"
    }
   ],
   "source": [
    "def multiply(x, y, z):\n",
    "    return x * y * z\n",
    "\n",
    "\n",
    "multiply(5, 6, 3)"
   ]
  },
  {
   "cell_type": "markdown",
   "metadata": {},
   "source": [
    "## 모듈 (Module)\n",
    "- 단일 `.py` 파일을 의미합니다\n",
    "- 함수 / 클래스의 모음 또는 하나의 프로그램을 구성하는 단위를 의미합니다.\n",
    "\n",
    "## 패키지 (Package)\n",
    "- 프로그램과 모듈의 묶음을 의미합니다.\n",
    "    - 프로그램 : 실행하기 위한 것\n",
    "    - 모듈 : 다른 프로그램에서 불러와 사용하기 위한 것\n",
    "![module](https://user-images.githubusercontent.com/45934087/148158664-3798bd68-a9fa-4c21-be01-874bada7c11c.png)\n"
   ]
  },
  {
   "cell_type": "markdown",
   "metadata": {},
   "source": [
    "## 라이브러리 (Library)\n",
    "- 패키지의 모음을 의미합니다.\n",
    "![Library](https://user-images.githubusercontent.com/45934087/148158810-466f417d-f950-4ac0-abcb-321e0577d043.png)"
   ]
  }
 ],
 "metadata": {
  "hide_input": false,
  "kernelspec": {
   "display_name": "Python 3 (ipykernel)",
   "language": "python",
   "name": "python3"
  },
  "language_info": {
   "codemirror_mode": {
    "name": "ipython",
    "version": 3
   },
   "file_extension": ".py",
   "mimetype": "text/x-python",
   "name": "python",
   "nbconvert_exporter": "python",
   "pygments_lexer": "ipython3",
   "version": "3.10.10"
  },
  "toc": {
   "base_numbering": 1,
   "nav_menu": {},
   "number_sections": true,
   "sideBar": true,
   "skip_h1_title": false,
   "title_cell": "Table of Contents",
   "title_sidebar": "Python 기초",
   "toc_cell": false,
   "toc_position": {
    "height": "757px",
    "left": "53px",
    "top": "111.125px",
    "width": "305px"
   },
   "toc_section_display": true,
   "toc_window_display": true
  }
 },
 "nbformat": 4,
 "nbformat_minor": 4
}
